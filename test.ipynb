{
 "cells": [
  {
   "cell_type": "code",
   "execution_count": 6,
   "metadata": {},
   "outputs": [
    {
     "name": "stdout",
     "output_type": "stream",
     "text": [
      "2884\n",
      "True\n"
     ]
    }
   ],
   "source": [
    "import os\n",
    "import ipdb\n",
    "char_set = set()\n",
    "root = r\"/root/autodl-tmp/data_thchs30/data\"\n",
    "files = os.listdir(root)\n",
    "for file in files:\n",
    "    if file.endswith(\".trn\"):\n",
    "        with open(os.path.join(root, file), \"r\", encoding=\"utf-8\") as f:\n",
    "            transcript = f.readlines()[0].strip()\n",
    "            # ipdb.set_trace()\n",
    "            char_set.update(list(transcript))\n",
    "print(len(char_set))\n",
    "print(\"前\" in char_set)"
   ]
  },
  {
   "cell_type": "code",
   "execution_count": 8,
   "metadata": {},
   "outputs": [
    {
     "name": "stdout",
     "output_type": "stream",
     "text": [
      "True\n",
      "True\n",
      "True\n",
      "True\n",
      "True\n",
      "True\n",
      "True\n",
      "True\n"
     ]
    }
   ],
   "source": [
    "print(\"进\" in char_set)\n",
    "print(\"后\" in char_set)\n",
    "print(\"退\" in char_set)\n",
    "print(\"左\" in char_set)\n",
    "print(\"转\" in char_set)\n",
    "print(\"右\" in char_set)\n",
    "print(\"停\" in char_set)\n",
    "print(\"止\" in char_set)\n",
    "\n",
    "import pickle\n",
    "with open(r\"/root/autodl-tmp/.char_set.pkl\", \"wb\") as fw:\n",
    "    pickle.dump(char_set, fw)"
   ]
  }
 ],
 "metadata": {
  "kernelspec": {
   "display_name": "base",
   "language": "python",
   "name": "python3"
  },
  "language_info": {
   "codemirror_mode": {
    "name": "ipython",
    "version": 3
   },
   "file_extension": ".py",
   "mimetype": "text/x-python",
   "name": "python",
   "nbconvert_exporter": "python",
   "pygments_lexer": "ipython3",
   "version": "3.10.8"
  }
 },
 "nbformat": 4,
 "nbformat_minor": 2
}
